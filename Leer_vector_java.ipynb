{
  "nbformat": 4,
  "nbformat_minor": 0,
  "metadata": {
    "colab": {
      "name": "Leer_vector_java.ipynb",
      "provenance": [],
      "authorship_tag": "ABX9TyNuj9WO+16geTshvPaNqBBr"
    },
    "kernelspec": {
      "name": "python3",
      "display_name": "Python 3"
    },
    "language_info": {
      "name": "python"
    }
  },
  "cells": [
    {
      "cell_type": "code",
      "metadata": {
        "colab": {
          "base_uri": "https://localhost:8080/"
        },
        "id": "9ytEd4zaKx65",
        "outputId": "a6b91b55-8f8b-44b7-e671-9971b8a9dd71"
      },
      "source": [
        "%%writefile splitting.java\n",
        "import java.util.Scanner;\n",
        "import java.util.Arrays;\n",
        "\n",
        "public class splitting{\n",
        "    public static void main(String[] args){\n",
        "        Scanner sc = new Scanner(System.in);\n",
        "        int n = sc.nextInt();\n",
        "        sc.nextLine();\n",
        "        String[] data = sc.nextLine().split(\"-\");\n",
        "        int[] data_int = new int[data.length];\n",
        "        for(int i = 0; i < data.length;i++){\n",
        "            data_int[i] = Integer.parseInt(data[i]);\n",
        "        }\n",
        "        System.out.println(Arrays.toString(data_int));\n",
        "    }\n",
        "}"
      ],
      "execution_count": 1,
      "outputs": [
        {
          "output_type": "stream",
          "text": [
            "Writing splitting.java\n"
          ],
          "name": "stdout"
        }
      ]
    },
    {
      "cell_type": "code",
      "metadata": {
        "colab": {
          "base_uri": "https://localhost:8080/"
        },
        "id": "zeoRBLWWK2-S",
        "outputId": "1a0a6799-4240-44dd-cecd-b6cf41da1167"
      },
      "source": [
        "!java splitting.java"
      ],
      "execution_count": 2,
      "outputs": [
        {
          "output_type": "stream",
          "text": [
            "3\n",
            "12-13-14\n",
            "[12, 13, 14]\n"
          ],
          "name": "stdout"
        }
      ]
    }
  ]
}