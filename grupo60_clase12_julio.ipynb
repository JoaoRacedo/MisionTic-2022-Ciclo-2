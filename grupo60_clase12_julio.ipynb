{
  "nbformat": 4,
  "nbformat_minor": 0,
  "metadata": {
    "colab": {
      "name": "grupo60_clase12_julio.ipynb",
      "provenance": [],
      "collapsed_sections": [],
      "authorship_tag": "ABX9TyMH70AODNjsdyoJQrQc2JnY"
    },
    "kernelspec": {
      "name": "python3",
      "display_name": "Python 3"
    },
    "language_info": {
      "name": "python"
    }
  },
  "cells": [
    {
      "cell_type": "code",
      "metadata": {
        "colab": {
          "base_uri": "https://localhost:8080/"
        },
        "id": "evPZodTeOE7P",
        "outputId": "a974ae92-c58b-4e84-e9a4-34ddd3211e96"
      },
      "source": [
        "%%writefile grupo60_clase12_julio.java\n",
        "import java.util.Scanner;\n",
        "\n",
        "public class grupo60_clase12_julio{\n",
        "    public static void main(String[] args){\n",
        "        Scanner sc = new Scanner(System.in);\n",
        "        int n = Integer.parseInt(sc.nextLine());\n",
        "        String datos[] = new String[n];\n",
        "        datos = sc.nextLine().split(\" \");\n",
        "        double datos_num[] = new double[n];\n",
        "        double suma = 0;\n",
        "        for(int i = 0;i<n; i++){\n",
        "            datos_num[i] = Double.parseDouble(datos[i]);\n",
        "            suma = suma + datos_num[i];\n",
        "        }\n",
        "        System.out.println(suma);\n",
        "    }\n",
        "} "
      ],
      "execution_count": 1,
      "outputs": [
        {
          "output_type": "stream",
          "text": [
            "Writing grupo60_clase12_julio.java\n"
          ],
          "name": "stdout"
        }
      ]
    },
    {
      "cell_type": "code",
      "metadata": {
        "colab": {
          "base_uri": "https://localhost:8080/"
        },
        "id": "FdbHT3huOUJ6",
        "outputId": "55428a42-df1a-405d-c4ba-858df2631276"
      },
      "source": [
        "!java grupo60_clase12_julio.java"
      ],
      "execution_count": 2,
      "outputs": [
        {
          "output_type": "stream",
          "text": [
            "4\n",
            "1 2 3 4\n",
            "10.0\n"
          ],
          "name": "stdout"
        }
      ]
    }
  ]
}